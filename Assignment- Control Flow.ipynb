{
 "cells": [
  {
   "cell_type": "markdown",
   "metadata": {},
   "source": [
    "---\n",
    "---\n",
    "\n",
    "<center><h1>📍 📍 Assignment: Control Flow 📍 📍</h1></center>\n",
    "\n",
    "---\n",
    "\n",
    "***Take 3 inputs from the user***\n",
    "\n",
    " -  **What is your Age?**    (Answer will be an Intger value)\n",
    " -  **Do you eat Pizza?**    (Yes/No)\n",
    " -  **Do you do exercise?**  (Yes/No)\n",
    "\n",
    "#### `Write the if else condition for the given flow chart.`\n",
    "\n",
    "![](image/control-flow.png)"
   ]
  },
  {
   "cell_type": "code",
   "execution_count": null,
   "metadata": {},
   "outputs": [],
   "source": [
    "# take input from the user: age\n",
    "age = int(input(\"What is your Age? \"))"
   ]
  },
  {
   "cell_type": "code",
   "execution_count": null,
   "metadata": {},
   "outputs": [],
   "source": [
    "pizza = input(\"Do you eat Pizza? \")"
   ]
  },
  {
   "cell_type": "code",
   "execution_count": 3,
   "metadata": {},
   "outputs": [
    {
     "name": "stdout",
     "output_type": "stream",
     "text": [
      "Do you do exercise? yes\n"
     ]
    }
   ],
   "source": [
    "exercise = input(\"Do you do exercise? \")"
   ]
  },
  {
   "cell_type": "code",
   "execution_count": 5,
   "metadata": {},
   "outputs": [
    {
     "name": "stdout",
     "output_type": "stream",
     "text": [
      "You are fit!!\n"
     ]
    }
   ],
   "source": [
    "if age < 30:\n",
    "    # check for the pizza condition\n",
    "    if (pizza ==\"no\"):\n",
    "        print(\"You are fit!!\")\n",
    "        \n",
    "    else:\n",
    "        print(\"You are unfit!!\")\n",
    "        \n",
    "else:\n",
    "    # check for the exercise condition\n",
    "    if (exercise ==\"yes\"):\n",
    "        print(\"You are fit!!\")\n",
    "        \n",
    "    else:\n",
    "        print(\"You are unfit!!\")\n",
    "    \n",
    "    \n",
    "    "
   ]
  }
 ],
 "metadata": {
  "kernelspec": {
   "display_name": "Python 3",
   "language": "python",
   "name": "python3"
  },
  "language_info": {
   "codemirror_mode": {
    "name": "ipython",
    "version": 3
   },
   "file_extension": ".py",
   "mimetype": "text/x-python",
   "name": "python",
   "nbconvert_exporter": "python",
   "pygments_lexer": "ipython3",
   "version": "3.6.6+"
  }
 },
 "nbformat": 4,
 "nbformat_minor": 2
}
